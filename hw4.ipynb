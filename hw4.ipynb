{
  "cells": [
    {
      "cell_type": "markdown",
      "metadata": {
        "id": "BkJS8PaGKseL"
      },
      "source": [
        "## Assignment #4: Deep Neural Networks - Heart Sound Classification using LSTM with Attention\n",
        "\n",
        "### Hesam Mousavi 9931155\n"
      ]
    },
    {
      "cell_type": "code",
      "execution_count": null,
      "metadata": {
        "colab": {
          "base_uri": "https://localhost:8080/",
          "height": 357
        },
        "id": "YeRT5ck2KseU",
        "outputId": "345a995a-b0d1-456b-8fc1-72d7c49bc726"
      },
      "outputs": [],
      "source": [
        "import numpy as np\n",
        "from sklearn.model_selection import train_test_split\n",
        "from keras.models import Sequential\n",
        "from keras.layers import LSTM, Bidirectional, Dense, Dropout\n",
        "from sklearn.metrics import accuracy_score, precision_score, recall_score, f1_score\n",
        "import matplotlib.pyplot as plt\n",
        "from my_io import my_io\n",
        "from Attention import Attention"
      ]
    },
    {
      "cell_type": "markdown",
      "metadata": {
        "id": "xLQZIFlrKseW"
      },
      "source": [
        "#### Read Data"
      ]
    },
    {
      "cell_type": "code",
      "execution_count": null,
      "metadata": {
        "id": "3yGN8ZPPKseX"
      },
      "outputs": [],
      "source": [
        "data_path = \"Dataset/wav signals/\"\n",
        "ref = \"Dataset/Labels based on .wav file names/\"\n",
        "\n",
        "data = my_io().read_wav_folder(data_path)\n",
        "data = my_io().Normalize_data(data, -1, 1)\n",
        "\n",
        "labels = my_io().read_csv_folder(ref)[:, 1]\n",
        "labels = labels.astype(float)\n",
        "labels[labels == -1] = 0\n",
        "\n",
        "X_train, X_test, y_train, y_test = train_test_split(\n",
        "    data, labels, test_size=0.2, random_state=32\n",
        ")"
      ]
    },
    {
      "cell_type": "markdown",
      "metadata": {
        "id": "qP7XQuxqKseX"
      },
      "source": [
        "#### Build the LSTM network with attention mechanism"
      ]
    },
    {
      "cell_type": "code",
      "execution_count": 25,
      "metadata": {
        "id": "ZbmyMFHHKseX"
      },
      "outputs": [],
      "source": [
        "num_epochs = 10\n",
        "learning_rate = 1e-3\n",
        "input_size = data.shape[1]\n",
        "batch_size = 20\n",
        "\n",
        "model = Sequential()\n",
        "model.add(\n",
        "    Bidirectional(LSTM(64, return_sequences=True), input_shape=(input_size, 1))\n",
        ")\n",
        "model.add(Attention())\n",
        "model.add(Dropout(0.2))\n",
        "model.add(Dense(1, activation=\"sigmoid\"))\n",
        "\n",
        "model.compile(\n",
        "    loss=\"binary_crossentropy\", optimizer=\"adam\", metrics=[\"accuracy\"]\n",
        ")"
      ]
    },
    {
      "cell_type": "markdown",
      "metadata": {
        "id": "VJLHAHm8KseY"
      },
      "source": [
        "#### Train the model and plot the loss values"
      ]
    },
    {
      "cell_type": "code",
      "execution_count": 27,
      "metadata": {
        "colab": {
          "base_uri": "https://localhost:8080/"
        },
        "id": "ObEbb18AKseY",
        "outputId": "5bd1b02e-dc2c-4311-c9dd-f5667668bf8c"
      },
      "outputs": [
        {
          "name": "stdout",
          "output_type": "stream",
          "text": [
            "Epoch 1/10\n",
            "40/40 [==============================] - 156s 4s/step - loss: 0.6441 - accuracy: 0.5888 - val_loss: 0.5613 - val_accuracy: 0.7563\n",
            "Epoch 2/10\n",
            "40/40 [==============================] - 151s 4s/step - loss: 0.6013 - accuracy: 0.7030 - val_loss: 0.5599 - val_accuracy: 0.7766\n",
            "Epoch 3/10\n",
            "40/40 [==============================] - 150s 4s/step - loss: 0.6081 - accuracy: 0.7005 - val_loss: 0.5664 - val_accuracy: 0.7310\n",
            "Epoch 4/10\n",
            "40/40 [==============================] - 151s 4s/step - loss: 0.6062 - accuracy: 0.6878 - val_loss: 0.5648 - val_accuracy: 0.7563\n",
            "Epoch 5/10\n",
            "40/40 [==============================] - 149s 4s/step - loss: 0.6067 - accuracy: 0.6929 - val_loss: 0.5623 - val_accuracy: 0.7614\n",
            "Epoch 6/10\n",
            "40/40 [==============================] - 148s 4s/step - loss: 0.6023 - accuracy: 0.6916 - val_loss: 0.5633 - val_accuracy: 0.7563\n",
            "Epoch 7/10\n",
            "40/40 [==============================] - 149s 4s/step - loss: 0.5918 - accuracy: 0.7183 - val_loss: 0.5485 - val_accuracy: 0.7665\n",
            "Epoch 8/10\n",
            "40/40 [==============================] - 155s 4s/step - loss: 0.5907 - accuracy: 0.7157 - val_loss: 0.5421 - val_accuracy: 0.7817\n",
            "Epoch 9/10\n",
            "40/40 [==============================] - 154s 4s/step - loss: 0.5885 - accuracy: 0.7195 - val_loss: 0.5415 - val_accuracy: 0.7766\n",
            "Epoch 10/10\n",
            "40/40 [==============================] - 151s 4s/step - loss: 0.5925 - accuracy: 0.7132 - val_loss: 0.5444 - val_accuracy: 0.7766\n"
          ]
        }
      ],
      "source": [
        "# Check if model trained before\n",
        "history = my_io().read_file(\"model.keras\")\n",
        "if history != None:\n",
        "    model = history\n",
        "else:\n",
        "    history = model.fit(X_train, y_train, epochs=num_epochs, batch_size=batch_size, validation_data=(X_test, y_test), verbose=1)\n",
        "\n",
        "# Save the model\n",
        "model.save(\"model.keras\")\n"
      ]
    },
    {
      "cell_type": "markdown",
      "metadata": {
        "id": "SdeTe3MDKseZ"
      },
      "source": [
        "#### Plot the loss values"
      ]
    },
    {
      "cell_type": "code",
      "execution_count": 28,
      "metadata": {
        "colab": {
          "base_uri": "https://localhost:8080/",
          "height": 388
        },
        "id": "hnSEPYpEKseZ",
        "outputId": "cf0f7a65-8c82-4ab1-f477-1554745e6bc6"
      },
      "outputs": [
        {
          "data": {
            "image/png": "[encoded data removed]",
            "text/plain": [
              "<Figure size 500x400 with 1 Axes>"
            ]
          },
          "metadata": {},
          "output_type": "display_data"
        }
      ],
      "source": [
        "fig, ax = plt.subplots(figsize=(5, 4))\n",
        "ax.plot(history.history['loss'], label='Train Loss')\n",
        "ax.plot(history.history['val_loss'], label='Test Loss')\n",
        "ax.set_xlabel('Epochs')\n",
        "ax.set_ylabel('Loss')\n",
        "plt.legend()\n",
        "plt.show()"
      ]
    },
    {
      "cell_type": "markdown",
      "metadata": {
        "id": "TZlkIHJtKsea"
      },
      "source": [
        "#### Evaluate the classifier"
      ]
    },
    {
      "cell_type": "code",
      "execution_count": 29,
      "metadata": {
        "colab": {
          "base_uri": "https://localhost:8080/"
        },
        "id": "echxTV5PKsea",
        "outputId": "3e370710-9624-407d-e405-90aa75408845"
      },
      "outputs": [
        {
          "name": "stdout",
          "output_type": "stream",
          "text": [
            "+-----------+---------+\n",
            "| Metric    |   Value |\n",
            "+===========+=========+\n",
            "| Accuracy  |   77.66 |\n",
            "+-----------+---------+\n",
            "| Precision |   74.31 |\n",
            "+-----------+---------+\n",
            "| Recall    |   83.51 |\n",
            "+-----------+---------+\n",
            "| F1-score  |   78.64 |\n",
            "+-----------+---------+\n"
          ]
        }
      ],
      "source": [
        "from tabulate import tabulate\n",
        "\n",
        "y_pred = model.predict(X_test, verbose=0)\n",
        "y_pred = np.round(y_pred).flatten()\n",
        "\n",
        "accuracy = accuracy_score(y_test, y_pred)\n",
        "precision = precision_score(y_test, y_pred, zero_division=True)\n",
        "recall = recall_score(y_test, y_pred)\n",
        "f1 = f1_score(y_test, y_pred)\n",
        "\n",
        "# Create a table with the results\n",
        "table = [\n",
        "    [\"Metric\", \"Value\"],\n",
        "    [\"Accuracy\", np.round(accuracy * 100, 2)],\n",
        "    [\"Precision\", np.round(precision * 100, 2)],\n",
        "    [\"Recall\", np.round(recall * 100, 2)],\n",
        "    [\"F1-score\", np.round(f1 * 100, 2)]\n",
        "]\n",
        "\n",
        "# Print the table using tabulate\n",
        "print(tabulate(table, headers=\"firstrow\", tablefmt=\"grid\"))"
      ]
    }
  ],
  "metadata": {
    "colab": {
      "provenance": []
    },
    "kernelspec": {
      "display_name": "base",
      "language": "python",
      "name": "python3"
    },
    "language_info": {
      "codemirror_mode": {
        "name": "ipython",
        "version": 3
      },
      "file_extension": ".py",
      "mimetype": "text/x-python",
      "name": "python",
      "nbconvert_exporter": "python",
      "pygments_lexer": "ipython3",
      "version": "3.9.15 (main, Nov 24 2022, 14:39:17) [MSC v.1916 64 bit (AMD64)]"
    },
    "orig_nbformat": 4,
    "vscode": {
      "interpreter": {
        "hash": "ffc2c986650f75bb84df5ef0f5794d173c138677d61245fd2c4ff2debf2f2371"
      }
    }
  },
  "nbformat": 4,
  "nbformat_minor": 0
}
