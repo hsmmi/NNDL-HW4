{
 "cells": [
  {
   "cell_type": "markdown",
   "metadata": {},
   "source": [
    "## Assignment #4: Deep Neural Networks - Heart Sound Classification using LSTM with Attention\n",
    "\n",
    "### Hesam Mousavi 9931155\n",
    "\n",
    "#### 1. Introduction\n",
    "\n",
    "In this project, we aim to build a sequential model using LSTM with attention mechanism for heart sound classification. The phonocardiogram (PCG) dataset consists of heart sound recordings collected from different locations on the body, including both normal and abnormal recordings. The goal is to detect abnormal heart sounds, which can provide valuable information for the appraisal of heart disease and pulmonary hypertension.\n",
    "\n",
    "#### 2. Methodology\n",
    "\n",
    "##### 2.1 Data Preprocessing\n",
    "\n",
    "- The '.wav' files of PCG records were read and labeled as normal or abnormal using the 'REFERENCE.csv' files.\n",
    "- Signal values were normalized to ensure they fall within the range of -1 to 1.\n",
    "- The minimum length of the signals was determined, and all signals were adjusted to this length.\n",
    "\n",
    "##### 2.2 LSTM Network with Attention Mechanism\n",
    "\n",
    "- The LSTM network with attention mechanism was implemented as a custom Keras layer called `Attention`.\n",
    "- The architecture of the model includes a Bidirectional LSTM layer, the `Attention` layer, a Dropout layer for regularization, and a Dense layer for binary classification (sigmoid activation).\n",
    "\n",
    "#### 3. Training\n",
    "\n",
    "- Number of Epochs: 50\n",
    "- Learning Rate: 1e-3\n",
    "- Input Size: [mention the input size of your data]\n",
    "- Batch Size: 20\n",
    "\n",
    "#### 4. Results\n",
    "\n",
    "- During training, the loss values were monitored on both the train and test datasets. The plot of loss values is shown in below.\n",
    "\n",
    "#### 5. Evaluation\n",
    "\n",
    "- The trained model was evaluated on the test dataset using the following metrics:\n",
    "  - Accuracy\n",
    "  - Precision\n",
    "  - Recall\n",
    "  - F1-score\n",
    "\n"
   ]
  },
  {
   "cell_type": "code",
   "execution_count": 1,
   "metadata": {},
   "outputs": [],
   "source": [
    "import numpy as np\n",
    "from sklearn.model_selection import train_test_split\n",
    "from keras.models import Sequential\n",
    "from keras.layers import LSTM, Bidirectional, Dense, Dropout\n",
    "from sklearn.metrics import accuracy_score, precision_score, recall_score, f1_score\n",
    "import matplotlib.pyplot as plt\n",
    "from my_io import my_io\n",
    "from Attention import Attention\n"
   ]
  },
  {
   "cell_type": "markdown",
   "metadata": {},
   "source": [
    "#### Read Data"
   ]
  },
  {
   "cell_type": "code",
   "execution_count": 2,
   "metadata": {},
   "outputs": [],
   "source": [
    "data_path = \"Dataset/wav signals/\"\n",
    "ref = \"Dataset/Labels based on .wav file names/\"\n",
    "\n",
    "data = my_io().read_wav_folder(data_path)\n",
    "data = my_io().Normalize_data(data, -1, 1)\n",
    "\n",
    "labels = my_io().read_csv_folder(ref)[:, 1]\n",
    "labels = labels.astype(float)\n",
    "labels[labels == -1] = 0\n",
    "\n",
    "X_train, X_test, y_train, y_test = train_test_split(\n",
    "    data, labels, test_size=0.2, random_state=42\n",
    ")"
   ]
  },
  {
   "cell_type": "markdown",
   "metadata": {},
   "source": [
    "#### Build the LSTM network with attention mechanism"
   ]
  },
  {
   "cell_type": "code",
   "execution_count": 3,
   "metadata": {},
   "outputs": [],
   "source": [
    "num_epochs = 50\n",
    "learning_rate = 1e-3\n",
    "input_size = data.shape[1]\n",
    "Batch_size = 20\n",
    "\n",
    "# Step 6: Build the LSTM network with attention mechanism\n",
    "model = Sequential()\n",
    "# model.add(Embedding(input_dim=target_length, output_dim=64, input_length=target_length))\n",
    "model.add(\n",
    "    Bidirectional(LSTM(64, return_sequences=True), input_shape=(input_size, 1))\n",
    ")\n",
    "model.add(Attention())\n",
    "model.add(Dropout(0.25))\n",
    "# model.add(GlobalMaxPooling1D())\n",
    "model.add(Dense(1, activation=\"sigmoid\"))\n",
    "\n",
    "model.compile(\n",
    "    loss=\"binary_crossentropy\", optimizer=\"adam\", metrics=[\"accuracy\"]\n",
    ")"
   ]
  },
  {
   "cell_type": "markdown",
   "metadata": {},
   "source": [
    "#### Train the model and plot the loss values"
   ]
  },
  {
   "cell_type": "code",
   "execution_count": 4,
   "metadata": {},
   "outputs": [
    {
     "name": "stdout",
     "output_type": "stream",
     "text": [
      "Epoch 1/10\n",
      "33/33 [==============================] - 98s 3s/step - loss: 0.6645 - accuracy: 0.5685 - val_loss: 0.6253 - val_accuracy: 0.7716\n",
      "Epoch 2/10\n",
      "33/33 [==============================] - 104s 3s/step - loss: 0.6171 - accuracy: 0.7183 - val_loss: 0.5602 - val_accuracy: 0.7665\n",
      "Epoch 3/10\n",
      "33/33 [==============================] - 90s 3s/step - loss: 0.5961 - accuracy: 0.7145 - val_loss: 0.5499 - val_accuracy: 0.7665\n",
      "Epoch 4/10\n",
      "33/33 [==============================] - 97s 3s/step - loss: 0.6049 - accuracy: 0.7043 - val_loss: 0.5602 - val_accuracy: 0.7513\n",
      "Epoch 5/10\n",
      "33/33 [==============================] - 90s 3s/step - loss: 0.5984 - accuracy: 0.7132 - val_loss: 0.5535 - val_accuracy: 0.7563\n",
      "Epoch 6/10\n",
      "33/33 [==============================] - 101s 3s/step - loss: 0.5978 - accuracy: 0.7119 - val_loss: 0.5487 - val_accuracy: 0.7563\n",
      "Epoch 7/10\n",
      "33/33 [==============================] - 113s 3s/step - loss: 0.6033 - accuracy: 0.7043 - val_loss: 0.5663 - val_accuracy: 0.7462\n",
      "Epoch 8/10\n",
      "33/33 [==============================] - 106s 3s/step - loss: 0.6018 - accuracy: 0.7094 - val_loss: 0.5643 - val_accuracy: 0.7411\n",
      "Epoch 9/10\n",
      "33/33 [==============================] - 119s 4s/step - loss: 0.5941 - accuracy: 0.7069 - val_loss: 0.5589 - val_accuracy: 0.7462\n",
      "Epoch 10/10\n",
      "33/33 [==============================] - 90s 3s/step - loss: 0.5980 - accuracy: 0.7069 - val_loss: 0.5703 - val_accuracy: 0.7360\n"
     ]
    },
    {
     "name": "stderr",
     "output_type": "stream",
     "text": [
      "/Users/hesoyam/Library/Python/3.9/lib/python/site-packages/keras/src/engine/training.py:3000: UserWarning: You are saving your model as an HDF5 file via `model.save()`. This file format is considered legacy. We recommend using instead the native Keras format, e.g. `model.save('my_model.keras')`.\n",
      "  saving_api.save_model(\n"
     ]
    }
   ],
   "source": [
    "# Check if model trained before\n",
    "history = my_io().read_file(\"model.keras\")\n",
    "if history != None:\n",
    "    model = history\n",
    "else:\n",
    "    history = model.fit(X_train, y_train, epochs=10, batch_size=24, validation_data=(X_test, y_test), verbose=1)\n",
    "\n",
    "# Save the model\n",
    "model.save(\"model.keras\")\n"
   ]
  },
  {
   "cell_type": "markdown",
   "metadata": {},
   "source": [
    "#### Plot the loss values"
   ]
  },
  {
   "cell_type": "code",
   "execution_count": 5,
   "metadata": {},
   "outputs": [
    {
     "data": {
      "image/png": "[encoded data removed]",
      "text/plain": [
       "<Figure size 600x500 with 1 Axes>"
      ]
     },
     "metadata": {},
     "output_type": "display_data"
    }
   ],
   "source": [
    "fig, ax = plt.subplots(figsize=(6, 5))\n",
    "ax.plot(history.history['loss'], label='Train Loss')\n",
    "ax.plot(history.history['val_loss'], label='Test Loss')\n",
    "ax.set_title('Loss/Epoch', fontdict={'fontsize': 11, 'fontweight': 'bold'})\n",
    "ax.set_xlabel('Epochs', fontdict={'fontsize': 9})\n",
    "ax.set_ylabel('Loss', fontdict={'fontsize': 9})\n",
    "plt.legend()\n",
    "plt.show()\n"
   ]
  },
  {
   "cell_type": "markdown",
   "metadata": {},
   "source": [
    "#### Evaluate the classifier "
   ]
  },
  {
   "cell_type": "code",
   "execution_count": 6,
   "metadata": {},
   "outputs": [
    {
     "name": "stdout",
     "output_type": "stream",
     "text": [
      "Accuracy:  73.6 %\n",
      "Precision:  77.33 %\n",
      "Recall:  62.37 %\n",
      "F1-score:  69.05 %\n"
     ]
    }
   ],
   "source": [
    "# Step 8: \n",
    "y_pred = model.predict(X_test, verbose=0)\n",
    "y_pred = np.round(y_pred).flatten()\n",
    "\n",
    "accuracy = accuracy_score(y_test, y_pred)\n",
    "precision = precision_score(y_test, y_pred, zero_division=True)\n",
    "recall = recall_score(y_test, y_pred)\n",
    "f1 = f1_score(y_test, y_pred)\n",
    "\n",
    "print(\"Accuracy: \", np.round(accuracy * 100, 2), \"%\")\n",
    "print(\"Precision: \", np.round(precision * 100, 2), \"%\")\n",
    "print(\"Recall: \", np.round(recall * 100, 2), \"%\")\n",
    "print(\"F1-score: \", np.round(f1 * 100, 2), \"%\")"
   ]
  }
 ],
 "metadata": {
  "kernelspec": {
   "display_name": "Python 3",
   "language": "python",
   "name": "python3"
  },
  "language_info": {
   "codemirror_mode": {
    "name": "ipython",
    "version": 3
   },
   "file_extension": ".py",
   "mimetype": "text/x-python",
   "name": "python",
   "nbconvert_exporter": "python",
   "pygments_lexer": "ipython3",
   "version": "3.9.6"
  },
  "orig_nbformat": 4
 },
 "nbformat": 4,
 "nbformat_minor": 2
}
